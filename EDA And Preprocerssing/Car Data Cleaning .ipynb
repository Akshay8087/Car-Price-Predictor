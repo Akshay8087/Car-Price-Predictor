{
 "cells": [
  {
   "cell_type": "code",
   "execution_count": 1,
   "id": "50d804bd-1e28-4216-97f9-271d3a5be33f",
   "metadata": {},
   "outputs": [],
   "source": [
    "import pandas as pd\n",
    "import numpy as np\n",
    "import matplotlib.pyplot as plt\n",
    "import seaborn as sns"
   ]
  },
  {
   "cell_type": "code",
   "execution_count": 2,
   "id": "dbd91979-805d-456d-9625-dd3b5f072253",
   "metadata": {},
   "outputs": [],
   "source": [
    "car_df = pd.read_csv(\"quikr_car.csv\")"
   ]
  },
  {
   "cell_type": "code",
   "execution_count": 3,
   "id": "6eb7efcf-18c0-4ab9-b073-a84608861742",
   "metadata": {},
   "outputs": [
    {
     "data": {
      "text/html": [
       "<div>\n",
       "<style scoped>\n",
       "    .dataframe tbody tr th:only-of-type {\n",
       "        vertical-align: middle;\n",
       "    }\n",
       "\n",
       "    .dataframe tbody tr th {\n",
       "        vertical-align: top;\n",
       "    }\n",
       "\n",
       "    .dataframe thead th {\n",
       "        text-align: right;\n",
       "    }\n",
       "</style>\n",
       "<table border=\"1\" class=\"dataframe\">\n",
       "  <thead>\n",
       "    <tr style=\"text-align: right;\">\n",
       "      <th></th>\n",
       "      <th>name</th>\n",
       "      <th>company</th>\n",
       "      <th>year</th>\n",
       "      <th>Price</th>\n",
       "      <th>kms_driven</th>\n",
       "      <th>fuel_type</th>\n",
       "    </tr>\n",
       "  </thead>\n",
       "  <tbody>\n",
       "    <tr>\n",
       "      <th>461</th>\n",
       "      <td>Ford Figo Petrol LXI</td>\n",
       "      <td>Ford</td>\n",
       "      <td>2011</td>\n",
       "      <td>1,75,000</td>\n",
       "      <td>75,000 kms</td>\n",
       "      <td>Petrol</td>\n",
       "    </tr>\n",
       "    <tr>\n",
       "      <th>46</th>\n",
       "      <td>Honda City</td>\n",
       "      <td>Honda</td>\n",
       "      <td>2015</td>\n",
       "      <td>4,99,999</td>\n",
       "      <td>55,000 kms</td>\n",
       "      <td>Petrol</td>\n",
       "    </tr>\n",
       "    <tr>\n",
       "      <th>126</th>\n",
       "      <td>Nissan Micra XV</td>\n",
       "      <td>Nissan</td>\n",
       "      <td>2011</td>\n",
       "      <td>1,79,000</td>\n",
       "      <td>41,000 kms</td>\n",
       "      <td>Petrol</td>\n",
       "    </tr>\n",
       "    <tr>\n",
       "      <th>519</th>\n",
       "      <td>Maruti Suzuki Wagon R VXI BS IV</td>\n",
       "      <td>Maruti</td>\n",
       "      <td>2017</td>\n",
       "      <td>3,75,000</td>\n",
       "      <td>23,000 kms</td>\n",
       "      <td>Petrol</td>\n",
       "    </tr>\n",
       "    <tr>\n",
       "      <th>492</th>\n",
       "      <td>Hyundai Verna 1.6 CRDI E</td>\n",
       "      <td>Hyundai</td>\n",
       "      <td>2016</td>\n",
       "      <td>1,95,000</td>\n",
       "      <td>56,000 kms</td>\n",
       "      <td>Diesel</td>\n",
       "    </tr>\n",
       "    <tr>\n",
       "      <th>439</th>\n",
       "      <td>Volkswagen Vento Highline Plus 1.5 Diesel AT</td>\n",
       "      <td>Volkswagen</td>\n",
       "      <td>2015</td>\n",
       "      <td>5,50,000</td>\n",
       "      <td>34,000 kms</td>\n",
       "      <td>Diesel</td>\n",
       "    </tr>\n",
       "    <tr>\n",
       "      <th>81</th>\n",
       "      <td>Mahindra Scorpio VLX 2WD BS IV</td>\n",
       "      <td>Mahindra</td>\n",
       "      <td>2014</td>\n",
       "      <td>6,99,000</td>\n",
       "      <td>50,000 kms</td>\n",
       "      <td>Diesel</td>\n",
       "    </tr>\n",
       "    <tr>\n",
       "      <th>253</th>\n",
       "      <td>Hyundai Eon Sportz</td>\n",
       "      <td>Hyundai</td>\n",
       "      <td>2012</td>\n",
       "      <td>1,78,000</td>\n",
       "      <td>30,000 kms</td>\n",
       "      <td>Petrol</td>\n",
       "    </tr>\n",
       "    <tr>\n",
       "      <th>875</th>\n",
       "      <td>Honda City VX Petrol</td>\n",
       "      <td>Honda</td>\n",
       "      <td>2016</td>\n",
       "      <td>8,60,000</td>\n",
       "      <td>95,000 kms</td>\n",
       "      <td>Petrol</td>\n",
       "    </tr>\n",
       "  </tbody>\n",
       "</table>\n",
       "</div>"
      ],
      "text/plain": [
       "                                             name     company  year     Price  \\\n",
       "461                          Ford Figo Petrol LXI        Ford  2011  1,75,000   \n",
       "46                                     Honda City       Honda  2015  4,99,999   \n",
       "126                               Nissan Micra XV      Nissan  2011  1,79,000   \n",
       "519               Maruti Suzuki Wagon R VXI BS IV      Maruti  2017  3,75,000   \n",
       "492                      Hyundai Verna 1.6 CRDI E     Hyundai  2016  1,95,000   \n",
       "439  Volkswagen Vento Highline Plus 1.5 Diesel AT  Volkswagen  2015  5,50,000   \n",
       "81                 Mahindra Scorpio VLX 2WD BS IV    Mahindra  2014  6,99,000   \n",
       "253                            Hyundai Eon Sportz     Hyundai  2012  1,78,000   \n",
       "875                          Honda City VX Petrol       Honda  2016  8,60,000   \n",
       "\n",
       "     kms_driven fuel_type  \n",
       "461  75,000 kms    Petrol  \n",
       "46   55,000 kms    Petrol  \n",
       "126  41,000 kms    Petrol  \n",
       "519  23,000 kms    Petrol  \n",
       "492  56,000 kms    Diesel  \n",
       "439  34,000 kms    Diesel  \n",
       "81   50,000 kms    Diesel  \n",
       "253  30,000 kms    Petrol  \n",
       "875  95,000 kms    Petrol  "
      ]
     },
     "execution_count": 3,
     "metadata": {},
     "output_type": "execute_result"
    }
   ],
   "source": [
    "car_df.sample(9)"
   ]
  },
  {
   "cell_type": "code",
   "execution_count": 4,
   "id": "54d07121-7947-4e5b-8c66-19673fe78c11",
   "metadata": {},
   "outputs": [
    {
     "data": {
      "text/plain": [
       "(892, 6)"
      ]
     },
     "execution_count": 4,
     "metadata": {},
     "output_type": "execute_result"
    }
   ],
   "source": [
    "car_df.shape"
   ]
  },
  {
   "cell_type": "code",
   "execution_count": 5,
   "id": "b26cbbca-94a7-405d-b63e-e41a688285c6",
   "metadata": {},
   "outputs": [
    {
     "name": "stdout",
     "output_type": "stream",
     "text": [
      "<class 'pandas.core.frame.DataFrame'>\n",
      "RangeIndex: 892 entries, 0 to 891\n",
      "Data columns (total 6 columns):\n",
      " #   Column      Non-Null Count  Dtype \n",
      "---  ------      --------------  ----- \n",
      " 0   name        892 non-null    object\n",
      " 1   company     892 non-null    object\n",
      " 2   year        892 non-null    object\n",
      " 3   Price       892 non-null    object\n",
      " 4   kms_driven  840 non-null    object\n",
      " 5   fuel_type   837 non-null    object\n",
      "dtypes: object(6)\n",
      "memory usage: 41.9+ KB\n"
     ]
    }
   ],
   "source": [
    "car_df.info()"
   ]
  },
  {
   "cell_type": "markdown",
   "id": "9066bcc4-4fe0-4fd1-b24b-f47f1487c76c",
   "metadata": {},
   "source": [
    "#### Creating a Backup Copy"
   ]
  },
  {
   "cell_type": "code",
   "execution_count": 6,
   "id": "2fa61929-ce5a-4d53-aa1b-11d6c7d22cf7",
   "metadata": {},
   "outputs": [],
   "source": [
    "backup_df = car_df.copy()"
   ]
  },
  {
   "cell_type": "markdown",
   "id": "78edaf83-36a3-466c-9d1d-d434e2eed243",
   "metadata": {},
   "source": [
    "."
   ]
  },
  {
   "cell_type": "markdown",
   "id": "a84fe637-9368-412d-8421-d281102a5bfa",
   "metadata": {},
   "source": [
    " "
   ]
  },
  {
   "cell_type": "markdown",
   "id": "9b469772-1eff-416a-9694-734887fa6d36",
   "metadata": {},
   "source": [
    "# 🧹 Data Quality Report\n",
    "\n",
    "## 🔍 Issues Identified\n",
    "\n",
    "### 1. **Inconsistent Model and Brand Names**\n",
    "- Car names are inconsistent across the dataset.\n",
    "- The model names are sometimes concatenated with brand names, leading to duplication and confusion.\n",
    "\n",
    "### 2. **Company Column Issues**\n",
    "- The `company` column contains:\n",
    "  - Numbers (e.g., `9`)\n",
    "  - Years instead of company names\n",
    "  - Single-letter entries (e.g., `r`, `t`)\n",
    "  - Irrelevant values mixed with valid names\n",
    "\n",
    "### 3. **Year Column Issues**\n",
    "- The `year` column:\n",
    "  - Is in `object` data type; needs to be converted to `datetime` or `int` format.\n",
    "  - Contains non-year values such as `cab`, `t xe`, `EV2`, `r...`, `zest`, etc.\n",
    "\n",
    "### 4. **Price Column Issues**\n",
    "- The `Price` column:\n",
    "  - Is in `object` format; should be converted to `int` after cleaning.\n",
    "  - Contains non-numeric values like `\"Ask For Price\"` which should be handled appropriately.\n",
    "\n",
    "### 5. **Kms Driven Column Issues**\n",
    "- The `kms_driven` column:\n",
    "  - Contains irrelevant values such as `\"Petrol\"`.\n",
    "  - Has `NaN` (missing) entries.\n",
    "  - Needs to be cleaned and converted to numeric format.\n",
    "\n",
    "### 6. **Fuel Type Column Issues**\n",
    "- The `fuel_type` column contains:\n",
    "  - Missing values (`NaN`) that should be imputed or handled based on context.\n",
    "\n",
    "---\n",
    "\n",
    "## ✅ Recommended Actions\n",
    "\n",
    "- Standardize brand and model names using string processing techniques.\n",
    "- Filter out or correct invalid entries in `company`, `year`, `price`, and `kms_driven` columns.\n",
    "- Convert appropriate columns to correct data types.\n",
    "- Handle missing and irrelevant values systematically using techniques like imputation, filtering, or replacing.\n",
    "\n",
    "---\n",
    "\n",
    "Let me know if you want a Python code snippet to clean this data as well!\n"
   ]
  },
  {
   "cell_type": "code",
   "execution_count": 7,
   "id": "2ebf4db5-596e-49f8-901d-fe0f2fbf8958",
   "metadata": {},
   "outputs": [
    {
     "data": {
      "text/plain": [
       "0        Hyundai Santro Xing XO eRLX Euro III\n",
       "1                     Mahindra Jeep CL550 MDI\n",
       "2                  Maruti Suzuki Alto 800 Vxi\n",
       "3      Hyundai Grand i10 Magna 1.2 Kappa VTVT\n",
       "4            Ford EcoSport Titanium 1.5L TDCi\n",
       "                        ...                  \n",
       "887                                        Ta\n",
       "888                       Tata Zest XM Diesel\n",
       "889                        Mahindra Quanto C8\n",
       "890                  Honda Amaze 1.2 E i VTEC\n",
       "891                 Chevrolet Sail 1.2 LT ABS\n",
       "Name: name, Length: 892, dtype: object"
      ]
     },
     "execution_count": 7,
     "metadata": {},
     "output_type": "execute_result"
    }
   ],
   "source": [
    "car_df[\"name\"]"
   ]
  },
  {
   "cell_type": "code",
   "execution_count": 8,
   "id": "65e70471-f158-461b-9b6e-066fe2925ddf",
   "metadata": {
    "scrolled": true
   },
   "outputs": [
    {
     "data": {
      "text/plain": [
       "company\n",
       "Maruti        235\n",
       "Hyundai       145\n",
       "Mahindra      100\n",
       "Tata           74\n",
       "Honda          61\n",
       "Toyota         39\n",
       "Chevrolet      35\n",
       "Renault        34\n",
       "Ford           31\n",
       "Volkswagen     20\n",
       "Skoda          13\n",
       "Audi           11\n",
       "Mini            8\n",
       "Datsun          8\n",
       "BMW             8\n",
       "Mitsubishi      6\n",
       "Mercedes        6\n",
       "Nissan          6\n",
       "Commercial      6\n",
       "Force           4\n",
       "Fiat            4\n",
       "I               3\n",
       "Hindustan       3\n",
       "tata            3\n",
       "Jaguar          2\n",
       "Used            2\n",
       "Sale            2\n",
       "MARUTI          2\n",
       "urgent          2\n",
       "URJENT          1\n",
       "Land            1\n",
       "Yamaha          1\n",
       "Jeep            1\n",
       "Swift           1\n",
       "selling         1\n",
       "very            1\n",
       "i               1\n",
       "2012            1\n",
       "Well            1\n",
       "Volvo           1\n",
       "all             1\n",
       "7               1\n",
       "9               1\n",
       "scratch         1\n",
       "sell            1\n",
       "TATA            1\n",
       "Any             1\n",
       "Tara            1\n",
       "Name: count, dtype: int64"
      ]
     },
     "execution_count": 8,
     "metadata": {},
     "output_type": "execute_result"
    }
   ],
   "source": [
    "car_df[\"company\"].value_counts()"
   ]
  },
  {
   "cell_type": "code",
   "execution_count": 9,
   "id": "832a789b-689a-4abb-a59a-4fe1b9fcf418",
   "metadata": {
    "scrolled": true
   },
   "outputs": [
    {
     "data": {
      "text/plain": [
       "year\n",
       "2015    117\n",
       "2014     94\n",
       "2013     94\n",
       "2016     76\n",
       "2012     75\n",
       "       ... \n",
       "cab       1\n",
       "t xe      1\n",
       "EV2       1\n",
       "r...      1\n",
       "zest      1\n",
       "Name: count, Length: 61, dtype: int64"
      ]
     },
     "execution_count": 9,
     "metadata": {},
     "output_type": "execute_result"
    }
   ],
   "source": [
    "car_df[\"year\"].value_counts()"
   ]
  },
  {
   "cell_type": "code",
   "execution_count": 10,
   "id": "52626997-3fd8-4c22-ad14-1793924ea2e6",
   "metadata": {},
   "outputs": [
    {
     "data": {
      "text/plain": [
       "Price\n",
       "Ask For Price    35\n",
       "2,50,000         17\n",
       "3,50,000         14\n",
       "1,80,000         13\n",
       "1,30,000         12\n",
       "                 ..\n",
       "12,25,000         1\n",
       "68,000            1\n",
       "9,70,000          1\n",
       "8,60,000          1\n",
       "5,00,001          1\n",
       "Name: count, Length: 274, dtype: int64"
      ]
     },
     "execution_count": 10,
     "metadata": {},
     "output_type": "execute_result"
    }
   ],
   "source": [
    "car_df[\"Price\"].value_counts()"
   ]
  },
  {
   "cell_type": "code",
   "execution_count": 11,
   "id": "c81bde09-d6af-47ec-8fab-f846ce042cbe",
   "metadata": {},
   "outputs": [
    {
     "data": {
      "text/plain": [
       "<bound method Series.min of 0      45,000 kms\n",
       "1          40 kms\n",
       "2      22,000 kms\n",
       "3      28,000 kms\n",
       "4      36,000 kms\n",
       "          ...    \n",
       "887           NaN\n",
       "888    27,000 kms\n",
       "889    40,000 kms\n",
       "890        Petrol\n",
       "891        Petrol\n",
       "Name: kms_driven, Length: 892, dtype: object>"
      ]
     },
     "execution_count": 11,
     "metadata": {},
     "output_type": "execute_result"
    }
   ],
   "source": [
    "car_df[\"kms_driven\"].min"
   ]
  },
  {
   "cell_type": "code",
   "execution_count": 12,
   "id": "92962ec0-568d-4140-9bba-7f20d19428f2",
   "metadata": {},
   "outputs": [
    {
     "data": {
      "text/plain": [
       "fuel_type\n",
       "Petrol    440\n",
       "Diesel    395\n",
       "LPG         2\n",
       "Name: count, dtype: int64"
      ]
     },
     "execution_count": 12,
     "metadata": {},
     "output_type": "execute_result"
    }
   ],
   "source": [
    "car_df[\"fuel_type\"].value_counts()"
   ]
  },
  {
   "cell_type": "code",
   "execution_count": null,
   "id": "38ee17b1-76d4-4fe3-b059-50d6d9ce35d0",
   "metadata": {},
   "outputs": [],
   "source": []
  },
  {
   "cell_type": "code",
   "execution_count": 13,
   "id": "16b0155c-9645-4830-a938-c2879459d0c1",
   "metadata": {},
   "outputs": [
    {
     "data": {
      "text/plain": [
       "Index(['name', 'company', 'year', 'Price', 'kms_driven', 'fuel_type'], dtype='object')"
      ]
     },
     "execution_count": 13,
     "metadata": {},
     "output_type": "execute_result"
    }
   ],
   "source": [
    "car_df.columns"
   ]
  },
  {
   "cell_type": "markdown",
   "id": "f5e66e33-8a98-4070-92aa-ee04cc84cd6a",
   "metadata": {},
   "source": [
    "### Cleaning Data"
   ]
  },
  {
   "cell_type": "markdown",
   "id": "79edcf0f-7de0-4f11-b002-f039cb0f71ee",
   "metadata": {},
   "source": [
    "##### changing Year column into \"int\" data type and also removing non numerical values "
   ]
  },
  {
   "cell_type": "code",
   "execution_count": 14,
   "id": "de47d880-02ec-486a-8660-c9ba5416550e",
   "metadata": {},
   "outputs": [],
   "source": [
    "car_df= car_df[car_df[\"year\"].str.isnumeric()]"
   ]
  },
  {
   "cell_type": "code",
   "execution_count": 15,
   "id": "f8f6d4e7-aae7-4fb2-baaa-dbc0344c28de",
   "metadata": {},
   "outputs": [],
   "source": [
    "car_df[\"year\"] = car_df[\"year\"].astype(int)"
   ]
  },
  {
   "cell_type": "code",
   "execution_count": null,
   "id": "61d33ee5-15ce-468c-a664-d4fa907182b6",
   "metadata": {},
   "outputs": [],
   "source": []
  },
  {
   "cell_type": "code",
   "execution_count": 16,
   "id": "226f6fd4-30df-4df1-823a-a5be6cbcb381",
   "metadata": {},
   "outputs": [
    {
     "name": "stdout",
     "output_type": "stream",
     "text": [
      "<class 'pandas.core.frame.DataFrame'>\n",
      "Index: 842 entries, 0 to 891\n",
      "Data columns (total 6 columns):\n",
      " #   Column      Non-Null Count  Dtype \n",
      "---  ------      --------------  ----- \n",
      " 0   name        842 non-null    object\n",
      " 1   company     842 non-null    object\n",
      " 2   year        842 non-null    int64 \n",
      " 3   Price       842 non-null    object\n",
      " 4   kms_driven  840 non-null    object\n",
      " 5   fuel_type   837 non-null    object\n",
      "dtypes: int64(1), object(5)\n",
      "memory usage: 46.0+ KB\n"
     ]
    }
   ],
   "source": [
    "car_df.info()"
   ]
  },
  {
   "cell_type": "code",
   "execution_count": null,
   "id": "1583bcec-2ac3-4d49-9dc5-0f1b9db3ab42",
   "metadata": {},
   "outputs": [],
   "source": []
  },
  {
   "cell_type": "markdown",
   "id": "f4700c49-597a-4931-a986-5fd12328fe0d",
   "metadata": {},
   "source": [
    "#### changing Price  column into \"int\" data type and also doing transformation like removing \",\" "
   ]
  },
  {
   "cell_type": "code",
   "execution_count": 17,
   "id": "5c65b735-bf07-4f0f-b865-ed46de74ff9f",
   "metadata": {},
   "outputs": [],
   "source": [
    "car_df = car_df[car_df[\"Price\"] != 'Ask For Price'] # only taking values accept 'Ask For Price',"
   ]
  },
  {
   "cell_type": "code",
   "execution_count": 18,
   "id": "f8e30552-1790-46e3-9961-739707f45798",
   "metadata": {
    "scrolled": true
   },
   "outputs": [
    {
     "data": {
      "text/plain": [
       "array(['80,000', '4,25,000', '3,25,000', '5,75,000', '1,75,000',\n",
       "       '1,90,000', '8,30,000', '2,50,000', '1,82,000', '3,15,000',\n",
       "       '4,15,000', '3,20,000', '10,00,000', '5,00,000', '3,50,000',\n",
       "       '1,60,000', '3,10,000', '75,000', '1,00,000', '2,90,000', '95,000',\n",
       "       '1,80,000', '3,85,000', '1,05,000', '6,50,000', '6,89,999',\n",
       "       '4,48,000', '5,49,000', '5,01,000', '4,89,999', '2,80,000',\n",
       "       '3,49,999', '2,84,999', '3,45,000', '4,99,999', '2,35,000',\n",
       "       '2,49,999', '14,75,000', '3,95,000', '2,20,000', '1,70,000',\n",
       "       '85,000', '2,00,000', '5,70,000', '1,10,000', '4,48,999',\n",
       "       '18,91,111', '1,59,500', '3,44,999', '4,49,999', '8,65,000',\n",
       "       '6,99,000', '3,75,000', '2,24,999', '12,00,000', '1,95,000',\n",
       "       '3,51,000', '2,40,000', '90,000', '1,55,000', '6,00,000',\n",
       "       '1,89,500', '2,10,000', '3,90,000', '1,35,000', '16,00,000',\n",
       "       '7,01,000', '2,65,000', '5,25,000', '3,72,000', '6,35,000',\n",
       "       '5,50,000', '4,85,000', '3,29,500', '2,51,111', '5,69,999',\n",
       "       '69,999', '2,99,999', '3,99,999', '4,50,000', '2,70,000',\n",
       "       '1,58,400', '1,79,000', '1,25,000', '2,99,000', '1,50,000',\n",
       "       '2,75,000', '2,85,000', '3,40,000', '70,000', '2,89,999',\n",
       "       '8,49,999', '7,49,999', '2,74,999', '9,84,999', '5,99,999',\n",
       "       '2,44,999', '4,74,999', '2,45,000', '1,69,500', '3,70,000',\n",
       "       '1,68,000', '1,45,000', '98,500', '2,09,000', '1,85,000',\n",
       "       '9,00,000', '6,99,999', '1,99,999', '5,44,999', '1,99,000',\n",
       "       '5,40,000', '49,000', '7,00,000', '55,000', '8,95,000', '3,55,000',\n",
       "       '5,65,000', '3,65,000', '40,000', '4,00,000', '3,30,000',\n",
       "       '5,80,000', '3,79,000', '2,19,000', '5,19,000', '7,30,000',\n",
       "       '20,00,000', '21,00,000', '14,00,000', '3,11,000', '8,55,000',\n",
       "       '5,35,000', '1,78,000', '3,00,000', '2,55,000', '5,49,999',\n",
       "       '3,80,000', '57,000', '4,10,000', '2,25,000', '1,20,000', '59,000',\n",
       "       '5,99,000', '6,75,000', '72,500', '6,10,000', '2,30,000',\n",
       "       '5,20,000', '5,24,999', '4,24,999', '6,44,999', '5,84,999',\n",
       "       '7,99,999', '4,44,999', '6,49,999', '9,44,999', '5,74,999',\n",
       "       '3,74,999', '1,30,000', '4,01,000', '13,50,000', '1,74,999',\n",
       "       '2,39,999', '99,999', '3,24,999', '10,74,999', '11,30,000',\n",
       "       '1,49,000', '7,70,000', '30,000', '3,35,000', '3,99,000', '65,000',\n",
       "       '1,69,999', '1,65,000', '5,60,000', '9,50,000', '7,15,000',\n",
       "       '45,000', '9,40,000', '1,55,555', '15,00,000', '4,95,000',\n",
       "       '8,00,000', '12,99,000', '5,30,000', '14,99,000', '32,000',\n",
       "       '4,05,000', '7,60,000', '7,50,000', '4,19,000', '1,40,000',\n",
       "       '15,40,000', '1,23,000', '4,98,000', '4,80,000', '4,88,000',\n",
       "       '15,25,000', '5,48,900', '7,25,000', '99,000', '52,000',\n",
       "       '28,00,000', '4,99,000', '3,81,000', '2,78,000', '6,90,000',\n",
       "       '2,60,000', '90,001', '1,15,000', '15,99,000', '1,59,000',\n",
       "       '51,999', '2,15,000', '35,000', '11,50,000', '2,69,000', '60,000',\n",
       "       '4,30,000', '85,00,003', '4,01,919', '4,90,000', '4,24,000',\n",
       "       '2,05,000', '5,49,900', '4,35,000', '1,89,700', '3,89,700',\n",
       "       '3,60,000', '2,95,000', '1,14,990', '10,65,000', '4,70,000',\n",
       "       '48,000', '1,88,000', '4,65,000', '1,79,999', '21,90,000',\n",
       "       '23,90,000', '10,75,000', '4,75,000', '10,25,000', '6,15,000',\n",
       "       '19,00,000', '14,90,000', '15,10,000', '18,50,000', '7,90,000',\n",
       "       '17,25,000', '12,25,000', '68,000', '9,70,000', '31,00,000',\n",
       "       '8,99,000', '88,000', '53,000', '5,68,500', '71,000', '5,90,000',\n",
       "       '7,95,000', '42,000', '1,89,000', '1,62,000', '35,999',\n",
       "       '29,00,000', '39,999', '50,500', '5,10,000', '8,60,000',\n",
       "       '5,00,001'], dtype=object)"
      ]
     },
     "execution_count": 18,
     "metadata": {},
     "output_type": "execute_result"
    }
   ],
   "source": [
    "car_df[\"Price\"].unique() # 'Ask For Price' now removed"
   ]
  },
  {
   "cell_type": "code",
   "execution_count": 19,
   "id": "b9e1cb76-bb29-4fa1-bf77-732ac29d7f79",
   "metadata": {},
   "outputs": [],
   "source": [
    "car_df[\"Price\"] = car_df[\"Price\"].str.replace(\",\" , \"\").astype(int)"
   ]
  },
  {
   "cell_type": "code",
   "execution_count": 20,
   "id": "95ed4b31-86f3-41dd-99e0-daf058165afa",
   "metadata": {},
   "outputs": [
    {
     "data": {
      "text/plain": [
       "0       80000\n",
       "1      425000\n",
       "3      325000\n",
       "4      575000\n",
       "6      175000\n",
       "        ...  \n",
       "886    300000\n",
       "888    260000\n",
       "889    390000\n",
       "890    180000\n",
       "891    160000\n",
       "Name: Price, Length: 819, dtype: int64"
      ]
     },
     "execution_count": 20,
     "metadata": {},
     "output_type": "execute_result"
    }
   ],
   "source": [
    "car_df[\"Price\"] "
   ]
  },
  {
   "cell_type": "code",
   "execution_count": 21,
   "id": "7a6dfa14-e77a-453d-8b1d-62cc28243d01",
   "metadata": {},
   "outputs": [
    {
     "name": "stdout",
     "output_type": "stream",
     "text": [
      "<class 'pandas.core.frame.DataFrame'>\n",
      "Index: 819 entries, 0 to 891\n",
      "Data columns (total 6 columns):\n",
      " #   Column      Non-Null Count  Dtype \n",
      "---  ------      --------------  ----- \n",
      " 0   name        819 non-null    object\n",
      " 1   company     819 non-null    object\n",
      " 2   year        819 non-null    int64 \n",
      " 3   Price       819 non-null    int64 \n",
      " 4   kms_driven  819 non-null    object\n",
      " 5   fuel_type   816 non-null    object\n",
      "dtypes: int64(2), object(4)\n",
      "memory usage: 44.8+ KB\n"
     ]
    }
   ],
   "source": [
    "car_df.info()"
   ]
  },
  {
   "cell_type": "code",
   "execution_count": null,
   "id": "ac8f2be5-ce7f-42e4-b4b6-01404e162c33",
   "metadata": {},
   "outputs": [],
   "source": []
  },
  {
   "cell_type": "markdown",
   "id": "bf5790c5-e63c-4659-917f-868751882759",
   "metadata": {},
   "source": [
    "#### kms_driven has object values with kms at last."
   ]
  },
  {
   "cell_type": "code",
   "execution_count": 22,
   "id": "43d54983-cc36-4e81-9194-ad2393335b5f",
   "metadata": {},
   "outputs": [],
   "source": [
    "car_df[\"kms_driven\"] = car_df[\"kms_driven\"].str.split().str.get(0).str.replace(\",\",\"\")"
   ]
  },
  {
   "cell_type": "code",
   "execution_count": 23,
   "id": "c6e3b079-a71c-435b-af83-2d43326278db",
   "metadata": {},
   "outputs": [
    {
     "data": {
      "text/plain": [
       "0       45000\n",
       "1          40\n",
       "3       28000\n",
       "4       36000\n",
       "6       41000\n",
       "        ...  \n",
       "886    132000\n",
       "888     27000\n",
       "889     40000\n",
       "890    Petrol\n",
       "891    Petrol\n",
       "Name: kms_driven, Length: 819, dtype: object"
      ]
     },
     "execution_count": 23,
     "metadata": {},
     "output_type": "execute_result"
    }
   ],
   "source": [
    "car_df[\"kms_driven\"]"
   ]
  },
  {
   "cell_type": "markdown",
   "id": "0c4f8bf8-843a-4315-9ad9-656fc6d4070d",
   "metadata": {},
   "source": [
    "##### It has nan values and two rows have 'Petrol' in them"
   ]
  },
  {
   "cell_type": "code",
   "execution_count": 25,
   "id": "ca484046-6916-4411-ad3b-9dbafe07577d",
   "metadata": {},
   "outputs": [],
   "source": [
    "car_df = car_df[car_df[\"kms_driven\"].str.isnumeric()]"
   ]
  },
  {
   "cell_type": "code",
   "execution_count": 27,
   "id": "8371e00a-ed31-4576-8f97-28ea0bb98e01",
   "metadata": {},
   "outputs": [],
   "source": [
    "car_df[\"kms_driven\"] =  car_df[\"kms_driven\"].astype(int)"
   ]
  },
  {
   "cell_type": "code",
   "execution_count": 28,
   "id": "54c560a2-665c-438b-9d12-f26f5a83a579",
   "metadata": {},
   "outputs": [
    {
     "data": {
      "text/html": [
       "<div>\n",
       "<style scoped>\n",
       "    .dataframe tbody tr th:only-of-type {\n",
       "        vertical-align: middle;\n",
       "    }\n",
       "\n",
       "    .dataframe tbody tr th {\n",
       "        vertical-align: top;\n",
       "    }\n",
       "\n",
       "    .dataframe thead th {\n",
       "        text-align: right;\n",
       "    }\n",
       "</style>\n",
       "<table border=\"1\" class=\"dataframe\">\n",
       "  <thead>\n",
       "    <tr style=\"text-align: right;\">\n",
       "      <th></th>\n",
       "      <th>name</th>\n",
       "      <th>company</th>\n",
       "      <th>year</th>\n",
       "      <th>Price</th>\n",
       "      <th>kms_driven</th>\n",
       "      <th>fuel_type</th>\n",
       "    </tr>\n",
       "  </thead>\n",
       "  <tbody>\n",
       "    <tr>\n",
       "      <th>734</th>\n",
       "      <td>Toyota Fortuner 3.0 4x4 MT</td>\n",
       "      <td>Toyota</td>\n",
       "      <td>2013</td>\n",
       "      <td>1499000</td>\n",
       "      <td>97000</td>\n",
       "      <td>Diesel</td>\n",
       "    </tr>\n",
       "    <tr>\n",
       "      <th>415</th>\n",
       "      <td>Maruti Suzuki Alto K10 VXi</td>\n",
       "      <td>Maruti</td>\n",
       "      <td>2014</td>\n",
       "      <td>270000</td>\n",
       "      <td>22000</td>\n",
       "      <td>Petrol</td>\n",
       "    </tr>\n",
       "    <tr>\n",
       "      <th>45</th>\n",
       "      <td>Honda Amaze 1.5 SX i DTEC</td>\n",
       "      <td>Honda</td>\n",
       "      <td>2015</td>\n",
       "      <td>345000</td>\n",
       "      <td>36000</td>\n",
       "      <td>Diesel</td>\n",
       "    </tr>\n",
       "    <tr>\n",
       "      <th>813</th>\n",
       "      <td>Tata Nano</td>\n",
       "      <td>Tata</td>\n",
       "      <td>2013</td>\n",
       "      <td>60000</td>\n",
       "      <td>7000</td>\n",
       "      <td>Petrol</td>\n",
       "    </tr>\n",
       "    <tr>\n",
       "      <th>640</th>\n",
       "      <td>Maruti Suzuki Swift VDi BS IV</td>\n",
       "      <td>Maruti</td>\n",
       "      <td>2012</td>\n",
       "      <td>280000</td>\n",
       "      <td>48006</td>\n",
       "      <td>Diesel</td>\n",
       "    </tr>\n",
       "    <tr>\n",
       "      <th>220</th>\n",
       "      <td>Mahindra Jeep CL550 MDI</td>\n",
       "      <td>Mahindra</td>\n",
       "      <td>2019</td>\n",
       "      <td>379000</td>\n",
       "      <td>0</td>\n",
       "      <td>Diesel</td>\n",
       "    </tr>\n",
       "    <tr>\n",
       "      <th>72</th>\n",
       "      <td>Honda City</td>\n",
       "      <td>Honda</td>\n",
       "      <td>2015</td>\n",
       "      <td>448999</td>\n",
       "      <td>54000</td>\n",
       "      <td>Petrol</td>\n",
       "    </tr>\n",
       "    <tr>\n",
       "      <th>115</th>\n",
       "      <td>Maruti Suzuki Ertiga ZXi</td>\n",
       "      <td>Maruti</td>\n",
       "      <td>2014</td>\n",
       "      <td>569999</td>\n",
       "      <td>45000</td>\n",
       "      <td>Petrol</td>\n",
       "    </tr>\n",
       "    <tr>\n",
       "      <th>480</th>\n",
       "      <td>Tata Sumo Gold LX BS IV</td>\n",
       "      <td>Tata</td>\n",
       "      <td>2014</td>\n",
       "      <td>250000</td>\n",
       "      <td>99000</td>\n",
       "      <td>Diesel</td>\n",
       "    </tr>\n",
       "  </tbody>\n",
       "</table>\n",
       "</div>"
      ],
      "text/plain": [
       "                              name   company  year    Price  kms_driven  \\\n",
       "734     Toyota Fortuner 3.0 4x4 MT    Toyota  2013  1499000       97000   \n",
       "415     Maruti Suzuki Alto K10 VXi    Maruti  2014   270000       22000   \n",
       "45       Honda Amaze 1.5 SX i DTEC     Honda  2015   345000       36000   \n",
       "813                      Tata Nano      Tata  2013    60000        7000   \n",
       "640  Maruti Suzuki Swift VDi BS IV    Maruti  2012   280000       48006   \n",
       "220        Mahindra Jeep CL550 MDI  Mahindra  2019   379000           0   \n",
       "72                      Honda City     Honda  2015   448999       54000   \n",
       "115       Maruti Suzuki Ertiga ZXi    Maruti  2014   569999       45000   \n",
       "480        Tata Sumo Gold LX BS IV      Tata  2014   250000       99000   \n",
       "\n",
       "    fuel_type  \n",
       "734    Diesel  \n",
       "415    Petrol  \n",
       "45     Diesel  \n",
       "813    Petrol  \n",
       "640    Diesel  \n",
       "220    Diesel  \n",
       "72     Petrol  \n",
       "115    Petrol  \n",
       "480    Diesel  "
      ]
     },
     "execution_count": 28,
     "metadata": {},
     "output_type": "execute_result"
    }
   ],
   "source": [
    "car_df.sample(9)"
   ]
  },
  {
   "cell_type": "code",
   "execution_count": 29,
   "id": "926a91fc-d6b9-4443-a017-ebc7741e8676",
   "metadata": {},
   "outputs": [
    {
     "name": "stdout",
     "output_type": "stream",
     "text": [
      "<class 'pandas.core.frame.DataFrame'>\n",
      "Index: 817 entries, 0 to 889\n",
      "Data columns (total 6 columns):\n",
      " #   Column      Non-Null Count  Dtype \n",
      "---  ------      --------------  ----- \n",
      " 0   name        817 non-null    object\n",
      " 1   company     817 non-null    object\n",
      " 2   year        817 non-null    int64 \n",
      " 3   Price       817 non-null    int64 \n",
      " 4   kms_driven  817 non-null    int64 \n",
      " 5   fuel_type   816 non-null    object\n",
      "dtypes: int64(3), object(3)\n",
      "memory usage: 44.7+ KB\n"
     ]
    }
   ],
   "source": [
    "car_df.info()"
   ]
  },
  {
   "cell_type": "code",
   "execution_count": null,
   "id": "f66bed6c-fb35-4467-935b-67d02abb34ad",
   "metadata": {},
   "outputs": [],
   "source": []
  },
  {
   "cell_type": "markdown",
   "id": "856f7f1e-87f3-416c-9acd-8c5342fa038a",
   "metadata": {},
   "source": [
    "##### fuel_type has nan values\n"
   ]
  },
  {
   "cell_type": "code",
   "execution_count": 32,
   "id": "95f28538-1ea8-49e3-925a-6fce4c9602f0",
   "metadata": {},
   "outputs": [],
   "source": [
    "car_df=car_df[~car_df['fuel_type'].isna()]"
   ]
  },
  {
   "cell_type": "code",
   "execution_count": null,
   "id": "b13c9a40-693e-4406-8d12-afef4ed0e00b",
   "metadata": {},
   "outputs": [],
   "source": []
  },
  {
   "cell_type": "code",
   "execution_count": null,
   "id": "a7c799f1-fc88-4274-8f97-7c3620525729",
   "metadata": {},
   "outputs": [],
   "source": []
  },
  {
   "cell_type": "markdown",
   "id": "738c5fc2-53c2-4a21-9633-da3ef5cbe7d9",
   "metadata": {},
   "source": [
    "##### Company does not need any cleaning now. Changing car names. Keeping only the first three words\n"
   ]
  },
  {
   "cell_type": "code",
   "execution_count": 33,
   "id": "89fb9a34-8f7e-41e9-ac06-68c2e9dce841",
   "metadata": {},
   "outputs": [
    {
     "name": "stderr",
     "output_type": "stream",
     "text": [
      "C:\\Users\\sajan\\AppData\\Local\\Temp\\ipykernel_7680\\588565070.py:1: SettingWithCopyWarning: \n",
      "A value is trying to be set on a copy of a slice from a DataFrame.\n",
      "Try using .loc[row_indexer,col_indexer] = value instead\n",
      "\n",
      "See the caveats in the documentation: https://pandas.pydata.org/pandas-docs/stable/user_guide/indexing.html#returning-a-view-versus-a-copy\n",
      "  car_df[\"name\"] =  car_df[\"name\"].str.split().str.slice(start = 0 , stop = 3).str.join(\" \")\n"
     ]
    }
   ],
   "source": [
    "car_df[\"name\"] =  car_df[\"name\"].str.split().str.slice(start = 0 , stop = 3).str.join(\" \")"
   ]
  },
  {
   "cell_type": "code",
   "execution_count": 34,
   "id": "79d02d4a-3e82-4fc0-843d-395e5ac8996b",
   "metadata": {},
   "outputs": [
    {
     "data": {
      "text/html": [
       "<div>\n",
       "<style scoped>\n",
       "    .dataframe tbody tr th:only-of-type {\n",
       "        vertical-align: middle;\n",
       "    }\n",
       "\n",
       "    .dataframe tbody tr th {\n",
       "        vertical-align: top;\n",
       "    }\n",
       "\n",
       "    .dataframe thead th {\n",
       "        text-align: right;\n",
       "    }\n",
       "</style>\n",
       "<table border=\"1\" class=\"dataframe\">\n",
       "  <thead>\n",
       "    <tr style=\"text-align: right;\">\n",
       "      <th></th>\n",
       "      <th>name</th>\n",
       "      <th>company</th>\n",
       "      <th>year</th>\n",
       "      <th>Price</th>\n",
       "      <th>kms_driven</th>\n",
       "      <th>fuel_type</th>\n",
       "    </tr>\n",
       "  </thead>\n",
       "  <tbody>\n",
       "    <tr>\n",
       "      <th>0</th>\n",
       "      <td>Hyundai Santro Xing</td>\n",
       "      <td>Hyundai</td>\n",
       "      <td>2007</td>\n",
       "      <td>80000</td>\n",
       "      <td>45000</td>\n",
       "      <td>Petrol</td>\n",
       "    </tr>\n",
       "    <tr>\n",
       "      <th>1</th>\n",
       "      <td>Mahindra Jeep CL550</td>\n",
       "      <td>Mahindra</td>\n",
       "      <td>2006</td>\n",
       "      <td>425000</td>\n",
       "      <td>40</td>\n",
       "      <td>Diesel</td>\n",
       "    </tr>\n",
       "    <tr>\n",
       "      <th>3</th>\n",
       "      <td>Hyundai Grand i10</td>\n",
       "      <td>Hyundai</td>\n",
       "      <td>2014</td>\n",
       "      <td>325000</td>\n",
       "      <td>28000</td>\n",
       "      <td>Petrol</td>\n",
       "    </tr>\n",
       "    <tr>\n",
       "      <th>4</th>\n",
       "      <td>Ford EcoSport Titanium</td>\n",
       "      <td>Ford</td>\n",
       "      <td>2014</td>\n",
       "      <td>575000</td>\n",
       "      <td>36000</td>\n",
       "      <td>Diesel</td>\n",
       "    </tr>\n",
       "    <tr>\n",
       "      <th>6</th>\n",
       "      <td>Ford Figo</td>\n",
       "      <td>Ford</td>\n",
       "      <td>2012</td>\n",
       "      <td>175000</td>\n",
       "      <td>41000</td>\n",
       "      <td>Diesel</td>\n",
       "    </tr>\n",
       "    <tr>\n",
       "      <th>...</th>\n",
       "      <td>...</td>\n",
       "      <td>...</td>\n",
       "      <td>...</td>\n",
       "      <td>...</td>\n",
       "      <td>...</td>\n",
       "      <td>...</td>\n",
       "    </tr>\n",
       "    <tr>\n",
       "      <th>883</th>\n",
       "      <td>Maruti Suzuki Ritz</td>\n",
       "      <td>Maruti</td>\n",
       "      <td>2011</td>\n",
       "      <td>270000</td>\n",
       "      <td>50000</td>\n",
       "      <td>Petrol</td>\n",
       "    </tr>\n",
       "    <tr>\n",
       "      <th>885</th>\n",
       "      <td>Tata Indica V2</td>\n",
       "      <td>Tata</td>\n",
       "      <td>2009</td>\n",
       "      <td>110000</td>\n",
       "      <td>30000</td>\n",
       "      <td>Diesel</td>\n",
       "    </tr>\n",
       "    <tr>\n",
       "      <th>886</th>\n",
       "      <td>Toyota Corolla Altis</td>\n",
       "      <td>Toyota</td>\n",
       "      <td>2009</td>\n",
       "      <td>300000</td>\n",
       "      <td>132000</td>\n",
       "      <td>Petrol</td>\n",
       "    </tr>\n",
       "    <tr>\n",
       "      <th>888</th>\n",
       "      <td>Tata Zest XM</td>\n",
       "      <td>Tata</td>\n",
       "      <td>2018</td>\n",
       "      <td>260000</td>\n",
       "      <td>27000</td>\n",
       "      <td>Diesel</td>\n",
       "    </tr>\n",
       "    <tr>\n",
       "      <th>889</th>\n",
       "      <td>Mahindra Quanto C8</td>\n",
       "      <td>Mahindra</td>\n",
       "      <td>2013</td>\n",
       "      <td>390000</td>\n",
       "      <td>40000</td>\n",
       "      <td>Diesel</td>\n",
       "    </tr>\n",
       "  </tbody>\n",
       "</table>\n",
       "<p>816 rows × 6 columns</p>\n",
       "</div>"
      ],
      "text/plain": [
       "                       name   company  year   Price  kms_driven fuel_type\n",
       "0       Hyundai Santro Xing   Hyundai  2007   80000       45000    Petrol\n",
       "1       Mahindra Jeep CL550  Mahindra  2006  425000          40    Diesel\n",
       "3         Hyundai Grand i10   Hyundai  2014  325000       28000    Petrol\n",
       "4    Ford EcoSport Titanium      Ford  2014  575000       36000    Diesel\n",
       "6                 Ford Figo      Ford  2012  175000       41000    Diesel\n",
       "..                      ...       ...   ...     ...         ...       ...\n",
       "883      Maruti Suzuki Ritz    Maruti  2011  270000       50000    Petrol\n",
       "885          Tata Indica V2      Tata  2009  110000       30000    Diesel\n",
       "886    Toyota Corolla Altis    Toyota  2009  300000      132000    Petrol\n",
       "888            Tata Zest XM      Tata  2018  260000       27000    Diesel\n",
       "889      Mahindra Quanto C8  Mahindra  2013  390000       40000    Diesel\n",
       "\n",
       "[816 rows x 6 columns]"
      ]
     },
     "execution_count": 34,
     "metadata": {},
     "output_type": "execute_result"
    }
   ],
   "source": [
    "car_df"
   ]
  },
  {
   "cell_type": "code",
   "execution_count": null,
   "id": "e203fbc2-21c2-4593-acb8-d0fe7aebff50",
   "metadata": {},
   "outputs": [],
   "source": []
  },
  {
   "cell_type": "code",
   "execution_count": 36,
   "id": "4ea54011-8567-4691-b52e-75d1f7a5bc44",
   "metadata": {},
   "outputs": [],
   "source": [
    "##### Resetting the index of the final cleaned data"
   ]
  },
  {
   "cell_type": "code",
   "execution_count": 35,
   "id": "8199087d-b622-4480-8e52-0522a94020d1",
   "metadata": {},
   "outputs": [],
   "source": [
    "car_df = car_df.reset_index( drop = True)"
   ]
  },
  {
   "cell_type": "code",
   "execution_count": 38,
   "id": "be074459-4a33-40c6-af7c-e9aa3f7c929b",
   "metadata": {},
   "outputs": [],
   "source": [
    "car_df.to_csv('cleaned_car_data.csv', index=False)"
   ]
  },
  {
   "cell_type": "code",
   "execution_count": null,
   "id": "03330b74-2d4e-4e0e-a03f-1f1f702dcfa1",
   "metadata": {},
   "outputs": [],
   "source": []
  },
  {
   "cell_type": "markdown",
   "id": "0a098c57-786d-4c65-b338-a48ee439274c",
   "metadata": {},
   "source": [
    "### Cleaned Data"
   ]
  },
  {
   "cell_type": "code",
   "execution_count": 40,
   "id": "f8bbdfaf-f2f5-461f-920a-9b8f07059ba2",
   "metadata": {},
   "outputs": [
    {
     "data": {
      "text/html": [
       "<div>\n",
       "<style scoped>\n",
       "    .dataframe tbody tr th:only-of-type {\n",
       "        vertical-align: middle;\n",
       "    }\n",
       "\n",
       "    .dataframe tbody tr th {\n",
       "        vertical-align: top;\n",
       "    }\n",
       "\n",
       "    .dataframe thead th {\n",
       "        text-align: right;\n",
       "    }\n",
       "</style>\n",
       "<table border=\"1\" class=\"dataframe\">\n",
       "  <thead>\n",
       "    <tr style=\"text-align: right;\">\n",
       "      <th></th>\n",
       "      <th>name</th>\n",
       "      <th>company</th>\n",
       "      <th>year</th>\n",
       "      <th>Price</th>\n",
       "      <th>kms_driven</th>\n",
       "      <th>fuel_type</th>\n",
       "    </tr>\n",
       "  </thead>\n",
       "  <tbody>\n",
       "    <tr>\n",
       "      <th>404</th>\n",
       "      <td>Chevrolet Spark LS</td>\n",
       "      <td>Chevrolet</td>\n",
       "      <td>2010</td>\n",
       "      <td>95000</td>\n",
       "      <td>23000</td>\n",
       "      <td>Petrol</td>\n",
       "    </tr>\n",
       "    <tr>\n",
       "      <th>424</th>\n",
       "      <td>Audi Q3 2.0</td>\n",
       "      <td>Audi</td>\n",
       "      <td>2013</td>\n",
       "      <td>1499000</td>\n",
       "      <td>37000</td>\n",
       "      <td>Diesel</td>\n",
       "    </tr>\n",
       "    <tr>\n",
       "      <th>543</th>\n",
       "      <td>Renault Duster 85PS</td>\n",
       "      <td>Renault</td>\n",
       "      <td>2013</td>\n",
       "      <td>401919</td>\n",
       "      <td>57923</td>\n",
       "      <td>Diesel</td>\n",
       "    </tr>\n",
       "    <tr>\n",
       "      <th>692</th>\n",
       "      <td>Hyundai Getz GLE</td>\n",
       "      <td>Hyundai</td>\n",
       "      <td>2007</td>\n",
       "      <td>99000</td>\n",
       "      <td>55000</td>\n",
       "      <td>Petrol</td>\n",
       "    </tr>\n",
       "    <tr>\n",
       "      <th>490</th>\n",
       "      <td>Hyundai Grand i10</td>\n",
       "      <td>Hyundai</td>\n",
       "      <td>2017</td>\n",
       "      <td>400000</td>\n",
       "      <td>20000</td>\n",
       "      <td>Petrol</td>\n",
       "    </tr>\n",
       "    <tr>\n",
       "      <th>463</th>\n",
       "      <td>Maruti Suzuki Ertiga</td>\n",
       "      <td>Maruti</td>\n",
       "      <td>2015</td>\n",
       "      <td>550000</td>\n",
       "      <td>75000</td>\n",
       "      <td>Petrol</td>\n",
       "    </tr>\n",
       "    <tr>\n",
       "      <th>744</th>\n",
       "      <td>Chevrolet Beat LS</td>\n",
       "      <td>Chevrolet</td>\n",
       "      <td>2014</td>\n",
       "      <td>189000</td>\n",
       "      <td>31000</td>\n",
       "      <td>Diesel</td>\n",
       "    </tr>\n",
       "    <tr>\n",
       "      <th>106</th>\n",
       "      <td>Hyundai Grand i10</td>\n",
       "      <td>Hyundai</td>\n",
       "      <td>2014</td>\n",
       "      <td>345000</td>\n",
       "      <td>49000</td>\n",
       "      <td>Diesel</td>\n",
       "    </tr>\n",
       "    <tr>\n",
       "      <th>479</th>\n",
       "      <td>Maruti Suzuki Zen</td>\n",
       "      <td>Maruti</td>\n",
       "      <td>2003</td>\n",
       "      <td>99999</td>\n",
       "      <td>53000</td>\n",
       "      <td>Petrol</td>\n",
       "    </tr>\n",
       "    <tr>\n",
       "      <th>260</th>\n",
       "      <td>Mini Cooper S</td>\n",
       "      <td>Mini</td>\n",
       "      <td>2013</td>\n",
       "      <td>1891111</td>\n",
       "      <td>13500</td>\n",
       "      <td>Petrol</td>\n",
       "    </tr>\n",
       "  </tbody>\n",
       "</table>\n",
       "</div>"
      ],
      "text/plain": [
       "                     name    company  year    Price  kms_driven fuel_type\n",
       "404    Chevrolet Spark LS  Chevrolet  2010    95000       23000    Petrol\n",
       "424           Audi Q3 2.0       Audi  2013  1499000       37000    Diesel\n",
       "543   Renault Duster 85PS    Renault  2013   401919       57923    Diesel\n",
       "692      Hyundai Getz GLE    Hyundai  2007    99000       55000    Petrol\n",
       "490     Hyundai Grand i10    Hyundai  2017   400000       20000    Petrol\n",
       "463  Maruti Suzuki Ertiga     Maruti  2015   550000       75000    Petrol\n",
       "744     Chevrolet Beat LS  Chevrolet  2014   189000       31000    Diesel\n",
       "106     Hyundai Grand i10    Hyundai  2014   345000       49000    Diesel\n",
       "479     Maruti Suzuki Zen     Maruti  2003    99999       53000    Petrol\n",
       "260         Mini Cooper S       Mini  2013  1891111       13500    Petrol"
      ]
     },
     "execution_count": 40,
     "metadata": {},
     "output_type": "execute_result"
    }
   ],
   "source": [
    "car_df.sample(10)"
   ]
  }
 ],
 "metadata": {
  "kernelspec": {
   "display_name": "Python 3 (ipykernel)",
   "language": "python",
   "name": "python3"
  },
  "language_info": {
   "codemirror_mode": {
    "name": "ipython",
    "version": 3
   },
   "file_extension": ".py",
   "mimetype": "text/x-python",
   "name": "python",
   "nbconvert_exporter": "python",
   "pygments_lexer": "ipython3",
   "version": "3.13.1"
  }
 },
 "nbformat": 4,
 "nbformat_minor": 5
}
